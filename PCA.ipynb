{
  "nbformat": 4,
  "nbformat_minor": 0,
  "metadata": {
    "colab": {
      "name": "PCA.ipynb",
      "provenance": [],
      "collapsed_sections": [],
      "authorship_tag": "ABX9TyMqqtY7Lm5d1K1l362unv5o",
      "include_colab_link": true
    },
    "kernelspec": {
      "name": "python3",
      "display_name": "Python 3"
    }
  },
  "cells": [
    {
      "cell_type": "markdown",
      "metadata": {
        "id": "view-in-github",
        "colab_type": "text"
      },
      "source": [
        "<a href=\"https://colab.research.google.com/github/SadaouiDyhia/Principle-Component-Analysis-data-analysis/blob/main/PCA.ipynb\" target=\"_parent\"><img src=\"https://colab.research.google.com/assets/colab-badge.svg\" alt=\"Open In Colab\"/></a>"
      ]
    },
    {
      "cell_type": "code",
      "metadata": {
        "colab": {
          "base_uri": "https://localhost:8080/"
        },
        "id": "YtCcOH04QCSO",
        "outputId": "0ca91f2d-2cfa-4426-d536-028258df64fe"
      },
      "source": [
        "pip install pca"
      ],
      "execution_count": null,
      "outputs": [
        {
          "output_type": "stream",
          "text": [
            "Requirement already satisfied: pca in /usr/local/lib/python3.6/dist-packages (1.3.0)\n",
            "Requirement already satisfied: numpy in /usr/local/lib/python3.6/dist-packages (from pca) (1.19.5)\n",
            "Requirement already satisfied: matplotlib in /usr/local/lib/python3.6/dist-packages (from pca) (3.2.2)\n",
            "Requirement already satisfied: scipy in /usr/local/lib/python3.6/dist-packages (from pca) (1.4.1)\n",
            "Requirement already satisfied: pandas in /usr/local/lib/python3.6/dist-packages (from pca) (1.1.5)\n",
            "Requirement already satisfied: tqdm in /usr/local/lib/python3.6/dist-packages (from pca) (4.41.1)\n",
            "Requirement already satisfied: colourmap in /usr/local/lib/python3.6/dist-packages (from pca) (0.1.1)\n",
            "Requirement already satisfied: sklearn in /usr/local/lib/python3.6/dist-packages (from pca) (0.0)\n",
            "Requirement already satisfied: wget in /usr/local/lib/python3.6/dist-packages (from pca) (3.2)\n",
            "Requirement already satisfied: python-dateutil>=2.1 in /usr/local/lib/python3.6/dist-packages (from matplotlib->pca) (2.8.1)\n",
            "Requirement already satisfied: pyparsing!=2.0.4,!=2.1.2,!=2.1.6,>=2.0.1 in /usr/local/lib/python3.6/dist-packages (from matplotlib->pca) (2.4.7)\n",
            "Requirement already satisfied: cycler>=0.10 in /usr/local/lib/python3.6/dist-packages (from matplotlib->pca) (0.10.0)\n",
            "Requirement already satisfied: kiwisolver>=1.0.1 in /usr/local/lib/python3.6/dist-packages (from matplotlib->pca) (1.3.1)\n",
            "Requirement already satisfied: pytz>=2017.2 in /usr/local/lib/python3.6/dist-packages (from pandas->pca) (2018.9)\n",
            "Requirement already satisfied: scikit-learn in /usr/local/lib/python3.6/dist-packages (from sklearn->pca) (0.22.2.post1)\n",
            "Requirement already satisfied: six>=1.5 in /usr/local/lib/python3.6/dist-packages (from python-dateutil>=2.1->matplotlib->pca) (1.15.0)\n",
            "Requirement already satisfied: joblib>=0.11 in /usr/local/lib/python3.6/dist-packages (from scikit-learn->sklearn->pca) (1.0.0)\n"
          ],
          "name": "stdout"
        }
      ]
    },
    {
      "cell_type": "code",
      "metadata": {
        "colab": {
          "base_uri": "https://localhost:8080/"
        },
        "id": "eNDK8UmxRFag",
        "outputId": "da79215d-edb7-4666-fff2-a8865bfa5662"
      },
      "source": [
        "import pandas as pd\n",
        "from pca import pca\n",
        "\n",
        "#le dataset choisit est celui de Longley's regression data\n",
        "url = \"https://vincentarelbundock.github.io/Rdatasets/csv/AER/Longley.csv\"\n",
        "\n",
        "X = pd.read_csv(url)\n",
        "#X=X.rename(columns={ \"Unnamed: 0\" : 'Année'})\n",
        "X= X.drop(columns=\"Unnamed: 0\")\n",
        "#Dimension du dataset\n",
        "print(X.shape)\n",
        "\n"
      ],
      "execution_count": null,
      "outputs": [
        {
          "output_type": "stream",
          "text": [
            "(16, 4)\n"
          ],
          "name": "stdout"
        }
      ]
    },
    {
      "cell_type": "markdown",
      "metadata": {
        "id": "aEPz6Ni6pLDg"
      },
      "source": [
        "# Présentation dataset :\n",
        "Ce dataset étudie l'évolution de certains facteurs microeconomiques selon les années: \n",
        "(individus: Années, variables : facteurs économiques ) \n",
        "\n",
        "* le nombre de personnes employés 'employment'\n",
        "*  déflateur du produit national brut 'price'  ( suit l'evolution des prix des biens et des services dans tous les domaines economiques nationals, plus il augmente, plus le prix augmente ) \n",
        "\n",
        "* produit national brut 'GNP' \n",
        "* nombres de personnes dans les forces armées 'armedforces'"
      ]
    },
    {
      "cell_type": "code",
      "metadata": {
        "colab": {
          "base_uri": "https://localhost:8080/"
        },
        "id": "mYkwtZrbWWFv",
        "outputId": "c62b0a61-ed2c-4f50-ccae-b512029dc5b7"
      },
      "source": [
        "#affichage des données\n",
        "print(X)\n",
        "\n"
      ],
      "execution_count": null,
      "outputs": [
        {
          "output_type": "stream",
          "text": [
            "    employment  price     gnp  armedforces\n",
            "0        60323   83.0  234289         1590\n",
            "1        61122   88.5  259426         1456\n",
            "2        60171   88.2  258054         1616\n",
            "3        61187   89.5  284599         1650\n",
            "4        63221   96.2  328975         3099\n",
            "5        63639   98.1  346999         3594\n",
            "6        64989   99.0  365385         3547\n",
            "7        63761  100.0  363112         3350\n",
            "8        66019  101.2  397469         3048\n",
            "9        67857  104.6  419180         2857\n",
            "10       68169  108.4  442769         2798\n",
            "11       66513  110.8  444546         2637\n",
            "12       68655  112.6  482704         2552\n",
            "13       69564  114.2  502601         2514\n",
            "14       69331  115.7  518173         2572\n",
            "15       70551  116.9  554894         2827\n"
          ],
          "name": "stdout"
        }
      ]
    },
    {
      "cell_type": "markdown",
      "metadata": {
        "id": "LVNw4ZLWs5FB"
      },
      "source": [
        "# ACP normée\n",
        "\n",
        "On utilise une ACP normée a cause de la différence de grandeur entre les différents facteurs\n",
        "\n",
        "Construction de la matrice centrée réduite"
      ]
    },
    {
      "cell_type": "code",
      "metadata": {
        "colab": {
          "base_uri": "https://localhost:8080/"
        },
        "id": "KPyxKajMYjrh",
        "outputId": "84e7ebde-9c08-415c-dd78-d165a3f237f6"
      },
      "source": [
        "#classe pour standardisation\n",
        "from sklearn.preprocessing import StandardScaler\n",
        "#instanciation\n",
        "sc = StandardScaler()\n",
        "#transformation – centrage-réduction\n",
        "Z = sc.fit_transform(X)\n",
        "print(Z)\n"
      ],
      "execution_count": null,
      "outputs": [
        {
          "output_type": "stream",
          "text": [
            "[[-1.4686297  -1.78787162 -1.59405086 -1.50883856]\n",
            " [-1.23366071 -1.26149924 -1.33285665 -1.70770436]\n",
            " [-1.51332968 -1.29021046 -1.34711286 -1.47025266]\n",
            " [-1.21454558 -1.16579518 -1.07128837 -1.41979418]\n",
            " [-0.61638924 -0.52457792 -0.61018505  0.73062773]\n",
            " [-0.49346428 -0.34274019 -0.4229008   1.46524391]\n",
            " [-0.09645786 -0.25660653 -0.23185506  1.39549248]\n",
            " [-0.45758667 -0.16090246 -0.25547341  1.10313008]\n",
            " [ 0.20644334 -0.04605758  0.10152422  0.65494001]\n",
            " [ 0.74696024  0.27933625  0.32711946  0.37148205]\n",
            " [ 0.83871283  0.64301171  0.57222866  0.28392173]\n",
            " [ 0.35171829  0.87270147  0.59069316  0.04498597]\n",
            " [ 0.98163515  1.04496879  0.98718632 -0.08116025]\n",
            " [ 1.24895281  1.1980953   1.1939326  -0.13755502]\n",
            " [ 1.18043244  1.3416514   1.35573855 -0.05147879]\n",
            " [ 1.53920862  1.45649628  1.73730009  0.32695985]]\n"
          ],
          "name": "stdout"
        }
      ]
    },
    {
      "cell_type": "code",
      "metadata": {
        "colab": {
          "base_uri": "https://localhost:8080/"
        },
        "id": "uN6IUALzdQRr",
        "outputId": "09f5b12f-4313-4d61-a77e-7ce9e517b855"
      },
      "source": [
        "#vérification - librairie numpy\n",
        "import numpy\n",
        "#moyenne\n",
        "print(numpy.mean(Z,axis=0))\n"
      ],
      "execution_count": null,
      "outputs": [
        {
          "output_type": "stream",
          "text": [
            "[ 0.00000000e+00 -4.99600361e-16  2.77555756e-17  0.00000000e+00]\n"
          ],
          "name": "stdout"
        }
      ]
    },
    {
      "cell_type": "code",
      "metadata": {
        "colab": {
          "base_uri": "https://localhost:8080/"
        },
        "id": "76om3poCdUa-",
        "outputId": "93f8d710-51ac-4d8a-b6c2-0b0ae46946d2"
      },
      "source": [
        "#écart-type\n",
        "print(numpy.std(Z,axis=0,ddof=0))"
      ],
      "execution_count": null,
      "outputs": [
        {
          "output_type": "stream",
          "text": [
            "[1. 1. 1. 1.]\n"
          ],
          "name": "stdout"
        }
      ]
    },
    {
      "cell_type": "code",
      "metadata": {
        "colab": {
          "base_uri": "https://localhost:8080/"
        },
        "id": "j_dM9HmIdd_e",
        "outputId": "8fa882ae-13d9-4692-e9d9-9a3254ffeafb"
      },
      "source": [
        "#classe pour l'ACP\n",
        "from sklearn.decomposition import PCA\n",
        "#instanciation\n",
        "acp = PCA(svd_solver='full')\n",
        "#affichage des paramètres\n",
        "print(acp)\n"
      ],
      "execution_count": null,
      "outputs": [
        {
          "output_type": "stream",
          "text": [
            "PCA(copy=True, iterated_power='auto', n_components=None, random_state=None,\n",
            "    svd_solver='full', tol=0.0, whiten=False)\n"
          ],
          "name": "stdout"
        }
      ]
    },
    {
      "cell_type": "markdown",
      "metadata": {
        "id": "Po6gokGrtxJ0"
      },
      "source": [
        "#Les coordonnées factorielles Fik"
      ]
    },
    {
      "cell_type": "code",
      "metadata": {
        "colab": {
          "base_uri": "https://localhost:8080/"
        },
        "id": "IJHtfHA6d04D",
        "outputId": "af1fc979-703f-4269-9c46-424fa28b2f57"
      },
      "source": [
        "#les coordonnées factorielles Fik sont collectées dans la variable coord\n",
        "coord = acp.fit_transform(Z)\n",
        "#vérification nombre de composantes calculées\n",
        "print(acp.n_components_)"
      ],
      "execution_count": null,
      "outputs": [
        {
          "output_type": "stream",
          "text": [
            "4\n"
          ],
          "name": "stdout"
        }
      ]
    },
    {
      "cell_type": "code",
      "metadata": {
        "colab": {
          "base_uri": "https://localhost:8080/"
        },
        "id": "f1gJdhh7eK-b",
        "outputId": "9a8de47a-1a94-47e0-f69b-5d9558bfeaa6"
      },
      "source": [
        "#Apres recherches: apparemment python des valeurs pas exactes des variances avec la premiere fct, du coup il faut appliquer une correction\n",
        "#variance expliquée\n",
        "print(acp.explained_variance_)\n",
        "#valeur corrigée\n",
        "n=16\n",
        "eigval = (n-1)/n*acp.explained_variance_\n",
        "print(eigval)\n",
        "#ou bien en passant par les valeurs singulières\n",
        "print(acp.singular_values_**2/n)\n",
        "\n"
      ],
      "execution_count": null,
      "outputs": [
        {
          "output_type": "stream",
          "text": [
            "[3.45858362 0.77003075 0.03202186 0.00603044]\n",
            "[3.24242214 0.72190382 0.0300205  0.00565354]\n",
            "[3.24242214 0.72190382 0.0300205  0.00565354]\n"
          ],
          "name": "stdout"
        }
      ]
    },
    {
      "cell_type": "code",
      "metadata": {
        "colab": {
          "base_uri": "https://localhost:8080/"
        },
        "id": "gyt8MzVOfLZt",
        "outputId": "8ef7fe42-5027-40ff-9267-d511a827c290"
      },
      "source": [
        "#####proportion de variance expliquée\n",
        "print(acp.explained_variance_ratio_)\n"
      ],
      "execution_count": null,
      "outputs": [
        {
          "output_type": "stream",
          "text": [
            "[0.81060554 0.18047596 0.00750512 0.00141338]\n"
          ],
          "name": "stdout"
        }
      ]
    },
    {
      "cell_type": "markdown",
      "metadata": {
        "id": "MDQ-pOWwf04a"
      },
      "source": [
        "**Proportions de variance par rapport a chaque variable:** \n",
        "\n",
        "*  employment:81% \n",
        "* price:18%   \n",
        "* gnp:0.75% \n",
        "* armedforces:0.14%\n"
      ]
    },
    {
      "cell_type": "markdown",
      "metadata": {
        "id": "VIfcaUjmffab"
      },
      "source": [
        "##Screen plot "
      ]
    },
    {
      "cell_type": "code",
      "metadata": {
        "colab": {
          "base_uri": "https://localhost:8080/",
          "height": 295
        },
        "id": "bd6dRh94hEA8",
        "outputId": "9c176137-69c3-47d3-cab2-98ce5f89e5c3"
      },
      "source": [
        "#scree plot\n",
        "\n",
        "#acp.explained_variance_ratio_.plot();\n",
        "\n",
        "import matplotlib.pyplot as plt\n",
        "p=4\n",
        "plt.plot(numpy.arange(1,p+1),eigval)\n",
        "plt.title(\"Scree plot\")\n",
        "plt.ylabel(\"valeurs propres\")\n",
        "plt.xlabel(\"num du facteur\")\n",
        "plt.show()"
      ],
      "execution_count": null,
      "outputs": [
        {
          "output_type": "display_data",
          "data": {
            "image/png": "[encoded data removed]",
            "text/plain": [
              "<Figure size 432x288 with 1 Axes>"
            ]
          },
          "metadata": {
            "tags": [],
            "needs_background": "light"
          }
        }
      ]
    },
    {
      "cell_type": "code",
      "metadata": {
        "colab": {
          "base_uri": "https://localhost:8080/",
          "height": 295
        },
        "id": "N7_jSAeYiGtp",
        "outputId": "f7859dfa-a5da-4c22-d093-b4d06b6bdb5a"
      },
      "source": [
        "#cumul de variance expliquée\n",
        "plt.plot(numpy.arange(1,p+1),numpy.cumsum(acp.explained_variance_ratio_))\n",
        "plt.title(\"Explained variance vs. # of factors\")\n",
        "plt.ylabel(\"Cumsum explained variance ratio\")\n",
        "plt.xlabel(\"Factor number\")\n",
        "plt.show()"
      ],
      "execution_count": null,
      "outputs": [
        {
          "output_type": "display_data",
          "data": {
            "image/png": "[encoded data removed]",
            "text/plain": [
              "<Figure size 432x288 with 1 Axes>"
            ]
          },
          "metadata": {
            "tags": [],
            "needs_background": "light"
          }
        }
      ]
    },
    {
      "cell_type": "code",
      "metadata": {
        "colab": {
          "base_uri": "https://localhost:8080/"
        },
        "id": "tGGcDTD5iVuM",
        "outputId": "aa94e767-ecba-4c16-8317-0af8fb9fbe13"
      },
      "source": [
        "#Les variables a retenir\n",
        "\n",
        "#seuils pour test des bâtons brisés\n",
        "bs = 1/numpy.arange(p,0,-1)\n",
        "bs = numpy.cumsum(bs)\n",
        "bs = bs[::-1]\n",
        "#test des bâtons brisés\n",
        "print(pd.DataFrame({'Val.Propre':eigval,'Seuils':bs}))\n",
        "\n"
      ],
      "execution_count": null,
      "outputs": [
        {
          "output_type": "stream",
          "text": [
            "   Val.Propre    Seuils\n",
            "0    3.242422  2.083333\n",
            "1    0.721904  1.083333\n",
            "2    0.030020  0.583333\n",
            "3    0.005654  0.250000\n"
          ],
          "name": "stdout"
        }
      ]
    },
    {
      "cell_type": "markdown",
      "metadata": {
        "id": "wbDQidkmjL0u"
      },
      "source": [
        "j'ai essayer d'utiliser plusieurs méthodes pour détérminer quelles variables retenirs, les 3 méthodes nous donnent presque le meme résultat. On peut remarquer d'apres les resultats au dessus qu'on peut prendre les 2 premieres variables: L'évolution dans le temps(année) et emploiment (employment)"
      ]
    },
    {
      "cell_type": "markdown",
      "metadata": {
        "id": "dLgbGJYJulal"
      },
      "source": [
        "# Nuage des individus :"
      ]
    },
    {
      "cell_type": "code",
      "metadata": {
        "colab": {
          "base_uri": "https://localhost:8080/",
          "height": 704
        },
        "id": "pUB0ClJEjf39",
        "outputId": "75a24199-9df7-4982-9e5d-a267dae6ef9e"
      },
      "source": [
        "#positionnement des individus dans le premier plan\n",
        "fig, axes = plt.subplots(figsize=(12,12))\n",
        "axes.set_xlim(-6,6) #même limites en abscisse\n",
        "axes.set_ylim(-6,6) #et en ordonnée\n",
        "#placement des étiquettes des observations\n",
        "for i in range(16):\n",
        " plt.annotate(X.index[i],(coord[i,0],coord[i,1]))\n",
        "#ajouter les axes\n",
        "plt.plot([-6,6],[0,0],color='silver',linestyle='-',linewidth=1)\n",
        "plt.plot([0,0],[-6,6],color='silver',linestyle='-',linewidth=1)\n",
        "#affichage\n",
        "plt.show()"
      ],
      "execution_count": null,
      "outputs": [
        {
          "output_type": "display_data",
          "data": {
            "image/png": "[encoded data removed]",
            "text/plain": [
              "<Figure size 864x864 with 1 Axes>"
            ]
          },
          "metadata": {
            "tags": [],
            "needs_background": "light"
          }
        }
      ]
    },
    {
      "cell_type": "code",
      "metadata": {
        "colab": {
          "base_uri": "https://localhost:8080/"
        },
        "id": "E9xwKJLWkyC4",
        "outputId": "1a85cba8-c28d-431b-c133-2ed71c22a694"
      },
      "source": [
        "#contribution des individus dans l'inertie totale\n",
        "di = numpy.sum(Z**2,axis=1)\n",
        "print(pd.DataFrame({'ID':X.index,'d_i':di}))\n"
      ],
      "execution_count": null,
      "outputs": [
        {
          "output_type": "stream",
          "text": [
            "    ID        d_i\n",
            "0    0  10.170950\n",
            "1    1   7.806060\n",
            "2    2   7.931166\n",
            "3    3   5.997674\n",
            "4    4   1.561260\n",
            "5    5   2.686763\n",
            "6    6   2.076307\n",
            "7    7   1.517438\n",
            "8    8   0.483994\n",
            "9    9   0.880984\n",
            "10  10   1.524960\n",
            "11  11   1.236256\n",
            "12  12   3.036691\n",
            "13  13   4.439712\n",
            "14  14   5.034126\n",
            "15  15   7.615659\n"
          ],
          "name": "stdout"
        }
      ]
    },
    {
      "cell_type": "markdown",
      "metadata": {
        "id": "mlBZNLIulEBP"
      },
      "source": [
        "On remarque que la premiere année (0) et la derniere année (15) se démarques des autres, on les trouves a 2 extrémités, ce qui est logique puisqu'elle sont représentées par des nombres croissants  "
      ]
    },
    {
      "cell_type": "code",
      "metadata": {
        "colab": {
          "base_uri": "https://localhost:8080/"
        },
        "id": "Rft9kLXcliDF",
        "outputId": "30782b07-a87f-4682-b43b-e9d0390428c1"
      },
      "source": [
        "#qualité de représentation des individus - COS2\n",
        "cos2 = coord**2\n",
        "for j in range(p):\n",
        " cos2[:,j] = cos2[:,j]/di\n",
        "print(pd.DataFrame({'id':X.index,'COS2_1':cos2[:,0],'COS2_2':cos2[:,1]}))"
      ],
      "execution_count": null,
      "outputs": [
        {
          "output_type": "stream",
          "text": [
            "    id    COS2_1    COS2_2\n",
            "0    0  0.971259  0.024009\n",
            "1    1  0.901046  0.098041\n",
            "2    2  0.952468  0.043929\n",
            "3    3  0.921717  0.076745\n",
            "4    4  0.323524  0.674050\n",
            "5    5  0.014673  0.981466\n",
            "6    6  0.010128  0.982640\n",
            "7    7  0.007823  0.961932\n",
            "8    8  0.267794  0.662013\n",
            "9    9  0.839073  0.009571\n",
            "10  10  0.963983  0.010139\n",
            "11  11  0.815189  0.074459\n",
            "12  12  0.858049  0.140837\n",
            "13  13  0.844970  0.154362\n",
            "14  14  0.871661  0.124995\n",
            "15  15  0.947389  0.047848\n"
          ],
          "name": "stdout"
        }
      ]
    },
    {
      "cell_type": "code",
      "metadata": {
        "colab": {
          "base_uri": "https://localhost:8080/"
        },
        "id": "WHpMCTS_lxph",
        "outputId": "86618cf5-022a-4122-bd61-2d191335e529"
      },
      "source": [
        "#contributions des individus aux axes\n",
        "#Elles permettent de déterminer les individus qui pèsent le plus dans la définition de chaque facteur\n",
        "ctr = coord**2\n",
        "for j in range(p):\n",
        " ctr[:,j] = ctr[:,j]/(n*eigval[j])\n",
        "\n",
        "print(pd.DataFrame({'id':X.index,'CTR_1':ctr[:,0],'CTR_2':ctr[:,1]}))\n"
      ],
      "execution_count": null,
      "outputs": [
        {
          "output_type": "stream",
          "text": [
            "    id     CTR_1     CTR_2\n",
            "0    0  0.190417  0.021142\n",
            "1    1  0.135578  0.066258\n",
            "2    2  0.145612  0.030164\n",
            "3    3  0.106559  0.039851\n",
            "4    4  0.009736  0.091110\n",
            "5    5  0.000760  0.228300\n",
            "6    6  0.000405  0.176639\n",
            "7    7  0.000229  0.126373\n",
            "8    8  0.002498  0.027740\n",
            "9    9  0.014249  0.000730\n",
            "10  10  0.028336  0.001339\n",
            "11  11  0.019426  0.007969\n",
            "12  12  0.050225  0.037027\n",
            "13  13  0.072311  0.059333\n",
            "14  14  0.084583  0.054477\n",
            "15  15  0.139074  0.031548\n"
          ],
          "name": "stdout"
        }
      ]
    },
    {
      "cell_type": "markdown",
      "metadata": {
        "id": "a_3RX446mFCW"
      },
      "source": [
        ""
      ]
    },
    {
      "cell_type": "markdown",
      "metadata": {
        "id": "6aK8oks-mUPb"
      },
      "source": [
        "# Nuage des variables:"
      ]
    },
    {
      "cell_type": "code",
      "metadata": {
        "colab": {
          "base_uri": "https://localhost:8080/"
        },
        "id": "c1n_Jn6Amcjc",
        "outputId": "8472b0b1-6160-4e28-e37e-e1623afb341e"
      },
      "source": [
        "#le champ components_ de l'objet ACP\n",
        "print(acp.components_)\n",
        "\n",
        "#racine carrée des valeurs propres\n",
        "sqrt_eigval = numpy.sqrt(eigval)\n",
        "\n",
        "#corrélation des variables avec les axes\n",
        "corvar = numpy.zeros((p,p))\n",
        "for k in range(p):\n",
        " corvar[:,k] = acp.components_[k,:] * sqrt_eigval[k]\n",
        "\n",
        "#afficher la matrice des corrélations variables x facteurs\n",
        "print(corvar)\n"
      ],
      "execution_count": null,
      "outputs": [
        {
          "output_type": "stream",
          "text": [
            "[[-0.54303431 -0.54516766 -0.54541108 -0.33231418]\n",
            " [-0.18778381 -0.18006993 -0.20759591  0.9429825 ]\n",
            " [-0.77435127  0.6120883   0.16038695 -0.00201092]\n",
            " [-0.26501149 -0.5437968   0.79605698  0.01863434]]\n",
            "[[-9.77827050e-01 -1.59550367e-01 -1.34167381e-01 -1.99262144e-02]\n",
            " [-9.81668510e-01 -1.52996275e-01  1.06053012e-01 -4.08880825e-02]\n",
            " [-9.82106846e-01 -1.76383708e-01  2.77893218e-02  5.98555259e-02]\n",
            " [-5.98389074e-01  8.01204363e-01 -3.48419992e-04  1.40111627e-03]]\n"
          ],
          "name": "stdout"
        }
      ]
    },
    {
      "cell_type": "code",
      "metadata": {
        "colab": {
          "base_uri": "https://localhost:8080/"
        },
        "id": "bIRo1lnmmqrQ",
        "outputId": "eba95253-0bba-4d9e-9326-04a648edbbde"
      },
      "source": [
        "#on affiche pour les deux premiers axes\n",
        "print(pd.DataFrame({'id':X.columns,'COR_1':corvar[:,0],'COR_2':corvar[:,1]}))\n"
      ],
      "execution_count": null,
      "outputs": [
        {
          "output_type": "stream",
          "text": [
            "            id     COR_1     COR_2\n",
            "0   employment -0.977827 -0.159550\n",
            "1        price -0.981669 -0.152996\n",
            "2          gnp -0.982107 -0.176384\n",
            "3  armedforces -0.598389  0.801204\n"
          ],
          "name": "stdout"
        }
      ]
    },
    {
      "cell_type": "code",
      "metadata": {
        "colab": {
          "base_uri": "https://localhost:8080/",
          "height": 487
        },
        "id": "KqAc-eldnUm8",
        "outputId": "7d259c87-79ec-4ba3-d891-be92d71e0d86"
      },
      "source": [
        "#cercle des corrélations\n",
        "fig, axes = plt.subplots(figsize=(8,8))\n",
        "axes.set_xlim(-1,1)\n",
        "axes.set_ylim(-1,1)\n",
        "#affichage des étiquettes (noms des variables)\n",
        "for j in range(p):\n",
        " plt.annotate(X.columns[j],(corvar[j,0],corvar[j,1]))\n",
        "\n",
        "#ajouter les axes\n",
        "plt.plot([-1,1],[0,0],color='silver',linestyle='-',linewidth=1)\n",
        "plt.plot([0,0],[-1,1],color='silver',linestyle='-',linewidth=1)\n",
        "\n",
        "#ajouter un cercle\n",
        "cercle = plt.Circle((0,0),1,color='blue',fill=False)\n",
        "axes.add_artist(cercle)\n",
        "#affichage\n",
        "plt.show()\n"
      ],
      "execution_count": null,
      "outputs": [
        {
          "output_type": "display_data",
          "data": {
            "image/png": "[encoded data removed]",
            "text/plain": [
              "<Figure size 576x576 with 1 Axes>"
            ]
          },
          "metadata": {
            "tags": [],
            "needs_background": "light"
          }
        }
      ]
    },
    {
      "cell_type": "markdown",
      "metadata": {
        "id": "10R4yhlknwpA"
      },
      "source": [
        "Axe des X : 1ere PC : emploiment \n",
        "\n",
        "\n",
        "Axe des Y: 2eme PC : deflateur de produit brut \n",
        "\n",
        "\n",
        "Le cercle des corrélations, variables-facteurs, montre que les variables d’origine sont très bien expliquées par les deux premières CP car tous les points se trouvent très près du cercle unité."
      ]
    },
    {
      "cell_type": "code",
      "metadata": {
        "colab": {
          "base_uri": "https://localhost:8080/"
        },
        "id": "F4ROs626nz9H",
        "outputId": "fd3e0844-17fd-4ff2-8518-ba8d3bf9e26a"
      },
      "source": [
        "#Qualité de présentation des variables: cosinus carré des variables\n",
        "cos2var = corvar**2\n",
        "print(pd.DataFrame({'id':X.columns,'COS2_1':cos2var[:,0],'COS2_2':cos2var[:,1]}))"
      ],
      "execution_count": null,
      "outputs": [
        {
          "output_type": "stream",
          "text": [
            "            id    COS2_1    COS2_2\n",
            "0   employment  0.956146  0.025456\n",
            "1        price  0.963673  0.023408\n",
            "2          gnp  0.964534  0.031111\n",
            "3  armedforces  0.358069  0.641928\n"
          ],
          "name": "stdout"
        }
      ]
    },
    {
      "cell_type": "code",
      "metadata": {
        "colab": {
          "base_uri": "https://localhost:8080/"
        },
        "id": "ij_QBtWhoHWs",
        "outputId": "30612973-e8b9-4f93-a80d-e52d20447db1"
      },
      "source": [
        "#contributions des variables aux axes\n",
        "ctrvar = cos2var\n",
        "for k in range(p):\n",
        " ctrvar[:,k] = ctrvar[:,k]/eigval[k]\n",
        "#on n'affiche que pour les deux premiers axes\n",
        "print(pd.DataFrame({'id':X.columns,'CTR_1':ctrvar[:,0],'CTR_2':ctrvar[:,1]}))"
      ],
      "execution_count": null,
      "outputs": [
        {
          "output_type": "stream",
          "text": [
            "            id     CTR_1     CTR_2\n",
            "0   employment  0.294886  0.035263\n",
            "1        price  0.297208  0.032425\n",
            "2          gnp  0.297473  0.043096\n",
            "3  armedforces  0.110433  0.889216\n"
          ],
          "name": "stdout"
        }
      ]
    },
    {
      "cell_type": "code",
      "metadata": {
        "id": "aTeuF1IPsVAn"
      },
      "source": [
        "#X.plot()"
      ],
      "execution_count": null,
      "outputs": []
    },
    {
      "cell_type": "code",
      "metadata": {
        "colab": {
          "base_uri": "https://localhost:8080/",
          "height": 279
        },
        "id": "iPX48tUBwQz_",
        "outputId": "3f22b2a0-5172-4519-8996-e8293ca88e4a"
      },
      "source": [
        "plt.scatter(Z[:, 0], Z[:, 1],\n",
        "            c=X.employment, edgecolor='none', alpha=0.5,\n",
        "            cmap=plt.cm.get_cmap('cool', 4))\n",
        "plt.xlabel('Emploiment')\n",
        "plt.ylabel('Deflateur produit brut national')\n",
        "plt.colorbar();"
      ],
      "execution_count": null,
      "outputs": [
        {
          "output_type": "display_data",
          "data": {
            "image/png": "[encoded data removed]",
            "text/plain": [
              "<Figure size 432x288 with 2 Axes>"
            ]
          },
          "metadata": {
            "tags": [],
            "needs_background": "light"
          }
        }
      ]
    },
    {
      "cell_type": "markdown",
      "metadata": {
        "id": "qZ4CeWS_jqtx"
      },
      "source": [
        "le deflateur de produit national brut montre la valeur ajoutée par les employés - la valeur des ressources nécessaires, on voit clairement a travers le graphe que plus on emploie de personne plus on a plus de valeur brut nationale ajoutée"
      ]
    }
  ]
}